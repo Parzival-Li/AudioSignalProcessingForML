{
 "cells": [
  {
   "cell_type": "code",
   "execution_count": null,
   "id": "37e987cd-1614-43c8-996d-834f8c9f46ef",
   "metadata": {},
   "outputs": [],
   "source": [
    "import numpy as np\n",
    "import os\n",
    "import librosa\n",
    "import librosa.display\n",
    "import IPython.display as ipd\n",
    "import matplotlib.pyplot as plt"
   ]
  },
  {
   "cell_type": "code",
   "execution_count": null,
   "id": "a6464a53-0cd3-4b60-8f59-1fc2ecde37db",
   "metadata": {},
   "outputs": [],
   "source": [
    "debussy_file = './audio/debussy.wav'\n",
    "redhot_file = './audio/redhot.wav'\n",
    "duke_file = './audio/duke.wav'\n",
    "\n",
    "debussy, SR = librosa.load(debussy_file)\n",
    "redhot, _ = librosa.load(redhot_file)\n",
    "duke, _ = librosa.load(duke_file)"
   ]
  },
  {
   "cell_type": "markdown",
   "id": "fc8b13a2-5903-4caa-9aac-a05b4b3593f4",
   "metadata": {},
   "source": [
    "### RMS"
   ]
  },
  {
   "cell_type": "code",
   "execution_count": null,
   "id": "a3b426d7-0851-4876-ae2d-2382ebe70357",
   "metadata": {},
   "outputs": [],
   "source": [
    "FRAME_LENGTH = 1024\n",
    "HOP_LENGTH = 512\n",
    "\n",
    "# extract RMSE(root mean squre energy) with librosa\n",
    "rms_debussy = librosa.feature.rms(y=debussy, frame_length=FRAME_LENGTH, hop_length=HOP_LENGTH)[0]\n",
    "rms_redhot = librosa.feature.rms(y=redhot, frame_length=FRAME_LENGTH, hop_length=HOP_LENGTH)[0]\n",
    "rms_duke = librosa.feature.rms(y=duke, frame_length=FRAME_LENGTH, hop_length=HOP_LENGTH)[0]"
   ]
  },
  {
   "cell_type": "code",
   "execution_count": null,
   "id": "dfe976b9-4970-4451-a365-95c85b024bf0",
   "metadata": {
    "scrolled": true
   },
   "outputs": [],
   "source": [
    "frames = range(0, rms_debussy.size)\n",
    "t = librosa.frames_to_time(frames, sr=SR, hop_length=HOP_LENGTH)\n",
    "\n",
    "# plot rmse\n",
    "plt.figure(figsize = (15, 17))\n",
    "\n",
    "plt.subplot(3, 1, 1)\n",
    "librosa.display.waveshow(debussy, alpha=0.5)\n",
    "plt.plot(t, rms_debussy, color='red')\n",
    "plt.title('debussy')\n",
    "plt.ylim(-1, 1)\n",
    "\n",
    "plt.subplot(3, 1, 2)\n",
    "librosa.display.waveshow(redhot, alpha = 0.5)\n",
    "plt.plot(t, rms_redhot, color='red')\n",
    "plt.title('redhot')\n",
    "plt.ylim(-1, 1)\n",
    "\n",
    "plt.subplot(3, 1, 3)\n",
    "librosa.display.waveshow(duke, alpha = 0.5)\n",
    "plt.plot(t, rms_duke, color='red')\n",
    "plt.title('duke')\n",
    "plt.ylim(-1, 1)\n",
    "\n",
    "plt.show()\n",
    "plt.close()"
   ]
  },
  {
   "cell_type": "code",
   "execution_count": null,
   "id": "a844fbf6-6035-4ecd-a452-814a85054bdf",
   "metadata": {},
   "outputs": [],
   "source": [
    "# try to do the frames_to_time function manually\n",
    "t_mannual = np.array(frames) * 1 / SR * HOP_LENGTH\n",
    "(t == t_mannual).all()"
   ]
  },
  {
   "cell_type": "code",
   "execution_count": null,
   "id": "2dd20b69-02fe-440e-a258-3a2ac7479a00",
   "metadata": {},
   "outputs": [],
   "source": [
    "FRAME_LENGTH = 1024\n",
    "HOP_LENGTH = 512\n",
    "# manual rms:\n",
    "# for each frame, calculate for each sample:\n",
    "# root of (sum of s(k)^2/ (k))\n",
    "\n",
    "def rms(signal, frame_length, hop_length):\n",
    "    rms = []\n",
    "\n",
    "    for i in range(0, len(signal) - frame_length + 1, hop_length):\n",
    "        rms_i = np.sqrt(np.sum(signal[i:i+frame_length] ** 2) / frame_length)\n",
    "        rms.append(rms_i)\n",
    "\n",
    "    return np.array(rms)"
   ]
  },
  {
   "cell_type": "code",
   "execution_count": null,
   "id": "dc791fcc-c399-4111-963d-e78cccd9b3bd",
   "metadata": {},
   "outputs": [],
   "source": [
    "FRAME_LENGTH = 1024\n",
    "HOP_LENGTH = 512\n",
    "# manual rms:\n",
    "# for each frame, calculate for each sample:\n",
    "# root of (sum of s(k)^2/ (k))\n",
    "\n",
    "def rms(signal, frame_length, hop_length):\n",
    "    rms = []\n",
    "\n",
    "    for i in range(0, len(signal), hop_length):\n",
    "        rms_i = np.sqrt(np.sum(signal[i:i+frame_length] ** 2) / frame_length)\n",
    "        rms.append(rms_i)\n",
    "\n",
    "    return np.array(rms)"
   ]
  },
  {
   "cell_type": "code",
   "execution_count": null,
   "id": "d4338a30-87c1-453a-a6ec-81b1621ccd05",
   "metadata": {},
   "outputs": [],
   "source": [
    "rms_manual_debussy = rms(debussy, frame_length=FRAME_LENGTH, hop_length=HOP_LENGTH)\n",
    "rms_manual_redhot = rms(redhot, frame_length=FRAME_LENGTH, hop_length=HOP_LENGTH)\n",
    "rms_manual_duke = rms(duke, frame_length=FRAME_LENGTH, hop_length=HOP_LENGTH)"
   ]
  },
  {
   "cell_type": "code",
   "execution_count": null,
   "id": "798161e8-6519-4bac-91c9-afad919e346a",
   "metadata": {
    "scrolled": true
   },
   "outputs": [],
   "source": [
    "# compare functional result with the manual result\n",
    "frames = range(0, rms_debussy.size)\n",
    "t = librosa.frames_to_time(frames, sr=SR, hop_length=HOP_LENGTH)\n",
    "\n",
    "# plot rmse\n",
    "plt.figure(figsize = (15, 17))\n",
    "\n",
    "plt.subplot(3, 1, 1)\n",
    "librosa.display.waveshow(debussy, alpha=0.5)\n",
    "plt.plot(t, rms_debussy, color='red')\n",
    "plt.plot(t, rms_manual_debussy, color='green')\n",
    "plt.title('debussy')\n",
    "plt.ylim(-1, 1)\n",
    "\n",
    "plt.subplot(3, 1, 2)\n",
    "librosa.display.waveshow(redhot, alpha = 0.5)\n",
    "plt.plot(t, rms_redhot, color='red')\n",
    "plt.plot(t, rms_manual_redhot, color='green')\n",
    "plt.title('redhot')\n",
    "plt.ylim(-1, 1)\n",
    "\n",
    "plt.subplot(3, 1, 3)\n",
    "librosa.display.waveshow(duke, alpha = 0.5)\n",
    "plt.plot(t, rms_duke, color='red')\n",
    "plt.plot(t, rms_manual_duke, color='green')\n",
    "plt.title('duke')\n",
    "plt.ylim(-1, 1)\n",
    "\n",
    "plt.show()\n",
    "plt.close()"
   ]
  },
  {
   "cell_type": "markdown",
   "id": "26bc9e8d-f010-4750-98ad-53f243aacfc7",
   "metadata": {},
   "source": [
    "### Zero Crossing Rate"
   ]
  },
  {
   "cell_type": "code",
   "execution_count": null,
   "id": "51898cdf-9a73-4ba5-ac16-78eb3f3c91db",
   "metadata": {},
   "outputs": [],
   "source": [
    "zcr_debussy = librosa.feature.zero_crossing_rate(y=debussy, frame_length=FRAME_LENGTH, hop_length=HOP_LENGTH)[0]\n",
    "zcr_redhot = librosa.feature.zero_crossing_rate(y=redhot, frame_length=FRAME_LENGTH, hop_length=HOP_LENGTH)[0]\n",
    "zcr_duke = librosa.feature.zero_crossing_rate(y=duke, frame_length=FRAME_LENGTH, hop_length=HOP_LENGTH)[0]"
   ]
  },
  {
   "cell_type": "code",
   "execution_count": null,
   "id": "c5003b73-83e5-495e-aabc-935414179018",
   "metadata": {
    "scrolled": true
   },
   "outputs": [],
   "source": [
    "frames = range(0, rms_debussy.size)\n",
    "t = librosa.frames_to_time(frames, sr=SR, hop_length=HOP_LENGTH)\n",
    "\n",
    "# plot ZCR\n",
    "plt.figure(figsize = (15, 17))\n",
    "\n",
    "plt.plot(t, zcr_debussy, color='y')\n",
    "plt.plot(t, zcr_redhot, color='r')\n",
    "plt.plot(t, zcr_duke, color='b')\n",
    "plt.ylim(0, 0.5)\n",
    "plt.title('Zero Crossing Rate Comparison')\n",
    "\n",
    "plt.show()\n",
    "plt.close()"
   ]
  },
  {
   "cell_type": "code",
   "execution_count": null,
   "id": "0521ae00-4bc7-471b-81ab-a1f92e4789a5",
   "metadata": {},
   "outputs": [],
   "source": [
    "frames = range(0, rms_debussy.size)\n",
    "t = librosa.frames_to_time(frames, sr=SR, hop_length=HOP_LENGTH)\n",
    "\n",
    "# plot ZCR(absolute count of zero crossing)\n",
    "plt.figure(figsize = (15, 17))\n",
    "\n",
    "plt.plot(t, zcr_debussy * FRAME_LENGTH, color='y')\n",
    "plt.plot(t, zcr_redhot * FRAME_LENGTH, color='r')\n",
    "plt.plot(t, zcr_duke * FRAME_LENGTH, color='b')\n",
    "plt.ylim(0, 500)\n",
    "plt.title('Zero Crossing Rate Comparison')\n",
    "\n",
    "plt.show()\n",
    "plt.close()"
   ]
  }
 ],
 "metadata": {
  "kernelspec": {
   "display_name": "Python 3 (ipykernel)",
   "language": "python",
   "name": "python3"
  },
  "language_info": {
   "codemirror_mode": {
    "name": "ipython",
    "version": 3
   },
   "file_extension": ".py",
   "mimetype": "text/x-python",
   "name": "python",
   "nbconvert_exporter": "python",
   "pygments_lexer": "ipython3",
   "version": "3.9.23"
  }
 },
 "nbformat": 4,
 "nbformat_minor": 5
}
