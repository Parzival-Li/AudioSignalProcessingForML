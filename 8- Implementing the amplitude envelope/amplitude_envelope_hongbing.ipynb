{
 "cells": [
  {
   "cell_type": "code",
   "execution_count": null,
   "id": "a188859f-85a1-474d-8ffa-2bb14dafdf33",
   "metadata": {},
   "outputs": [],
   "source": [
    "import os\n",
    "import librosa\n",
    "import librosa.display\n",
    "import IPython.display as ipd"
   ]
  },
  {
   "cell_type": "code",
   "execution_count": null,
   "id": "7a312b77-c6c0-40c6-b181-f712e14c632f",
   "metadata": {},
   "outputs": [],
   "source": [
    "debussy_file = './audio/debussy.wav'\n",
    "redhot_file = './audio/redhot.wav'\n",
    "duke_file = './audio/duke.wav'"
   ]
  },
  {
   "cell_type": "code",
   "execution_count": null,
   "id": "649e9851-01ec-4b7a-83b9-6ecbeb529cf7",
   "metadata": {},
   "outputs": [],
   "source": [
    "ipd.Audio(debussy_file)"
   ]
  },
  {
   "cell_type": "code",
   "execution_count": null,
   "id": "56298a10-e165-4f2b-b6a2-87a366ec2f13",
   "metadata": {},
   "outputs": [],
   "source": [
    "ipd.Audio(redhot_file)"
   ]
  },
  {
   "cell_type": "code",
   "execution_count": null,
   "id": "2e1b0ea3-d837-4955-b067-e50988846f43",
   "metadata": {},
   "outputs": [],
   "source": [
    "ipd.Audio(duke_file)"
   ]
  },
  {
   "cell_type": "code",
   "execution_count": null,
   "id": "5536df60-9e3b-41f5-800b-f1fc5a39a357",
   "metadata": {},
   "outputs": [],
   "source": [
    "debussy, sr = librosa.load(debussy_file)\n",
    "redhot, _ = librosa.load(redhot_file)\n",
    "duke, _ = librosa.load(duke_file)"
   ]
  },
  {
   "cell_type": "code",
   "execution_count": null,
   "id": "0f04681c-a433-4bc8-bb91-002afea3d369",
   "metadata": {},
   "outputs": [],
   "source": [
    "redhot"
   ]
  }
 ],
 "metadata": {
  "kernelspec": {
   "display_name": "Python 3 (ipykernel)",
   "language": "python",
   "name": "python3"
  },
  "language_info": {
   "codemirror_mode": {
    "name": "ipython",
    "version": 3
   },
   "file_extension": ".py",
   "mimetype": "text/x-python",
   "name": "python",
   "nbconvert_exporter": "python",
   "pygments_lexer": "ipython3",
   "version": "3.9.23"
  }
 },
 "nbformat": 4,
 "nbformat_minor": 5
}
