{
 "cells": [
  {
   "cell_type": "code",
   "execution_count": null,
   "id": "a188859f-85a1-474d-8ffa-2bb14dafdf33",
   "metadata": {},
   "outputs": [],
   "source": [
    "import numpy as np\n",
    "import os\n",
    "import librosa\n",
    "import librosa.display\n",
    "import IPython.display as ipd\n",
    "import matplotlib.pyplot as plt"
   ]
  },
  {
   "cell_type": "code",
   "execution_count": null,
   "id": "7a312b77-c6c0-40c6-b181-f712e14c632f",
   "metadata": {},
   "outputs": [],
   "source": [
    "debussy_file = './audio/debussy.wav'\n",
    "redhot_file = './audio/redhot.wav'\n",
    "duke_file = './audio/duke.wav'"
   ]
  },
  {
   "cell_type": "code",
   "execution_count": null,
   "id": "649e9851-01ec-4b7a-83b9-6ecbeb529cf7",
   "metadata": {},
   "outputs": [],
   "source": [
    "ipd.Audio(debussy_file)"
   ]
  },
  {
   "cell_type": "code",
   "execution_count": null,
   "id": "56298a10-e165-4f2b-b6a2-87a366ec2f13",
   "metadata": {},
   "outputs": [],
   "source": [
    "ipd.Audio(redhot_file)"
   ]
  },
  {
   "cell_type": "code",
   "execution_count": null,
   "id": "2e1b0ea3-d837-4955-b067-e50988846f43",
   "metadata": {},
   "outputs": [],
   "source": [
    "ipd.Audio(duke_file)"
   ]
  },
  {
   "cell_type": "code",
   "execution_count": null,
   "id": "5536df60-9e3b-41f5-800b-f1fc5a39a357",
   "metadata": {},
   "outputs": [],
   "source": [
    "debussy, sr = librosa.load(debussy_file)\n",
    "redhot, _ = librosa.load(redhot_file)\n",
    "duke, _ = librosa.load(duke_file)"
   ]
  },
  {
   "cell_type": "code",
   "execution_count": null,
   "id": "4efa5183-6a33-4519-84f6-9a4e9daeb07b",
   "metadata": {},
   "outputs": [],
   "source": [
    "debussy"
   ]
  },
  {
   "cell_type": "code",
   "execution_count": null,
   "id": "0f04681c-a433-4bc8-bb91-002afea3d369",
   "metadata": {},
   "outputs": [],
   "source": [
    "sample_duration = 1 / sr\n",
    "duration = sample_duration * len(debussy)\n",
    "sample_duration, duration"
   ]
  },
  {
   "cell_type": "code",
   "execution_count": null,
   "id": "ba827e34-2a2e-4d17-a649-9e42f109edbc",
   "metadata": {},
   "outputs": [],
   "source": [
    "# visualise the waveforms\n",
    "plt.figure(figsize = (15, 17))\n",
    "\n",
    "plt.subplot(3, 1, 1)\n",
    "librosa.display.waveshow(debussy, alpha = 0.5)\n",
    "plt.title('debussy')\n",
    "plt.ylim(-1, 1)\n",
    "\n",
    "plt.subplot(3, 1, 2)\n",
    "librosa.display.waveshow(redhot, alpha = 0.5)\n",
    "plt.title('redhot')\n",
    "plt.ylim(-1, 1)\n",
    "\n",
    "plt.subplot(3, 1, 3)\n",
    "librosa.display.waveshow(duke, alpha = 0.5)\n",
    "plt.title('duke')\n",
    "plt.ylim(-1, 1)\n",
    "\n",
    "plt.show()\n",
    "plt.close()"
   ]
  },
  {
   "cell_type": "code",
   "execution_count": null,
   "id": "e839772e-19ed-4e0f-8f99-5e2f455b4ba5",
   "metadata": {},
   "outputs": [],
   "source": [
    "FRAME_SIZE = 1024\n",
    "\n",
    "# calculate amplitude envelope(non-overlapping frames)\n",
    "def amplitude_envelope(signal, frame_size):\n",
    "    amplitude_envelope = []\n",
    "\n",
    "    for i in range(0, len(signal), frame_size):\n",
    "        amplitude_i = max(signal[i: i+frame_size])\n",
    "        amplitude_envelope.append(amplitude_i)\n",
    "\n",
    "    return np.array(amplitude_envelope)"
   ]
  },
  {
   "cell_type": "code",
   "execution_count": null,
   "id": "ac26a2dc-6674-4b1f-9b27-30203b2f17a8",
   "metadata": {},
   "outputs": [],
   "source": [
    "ae_debussy = amplitude_envelope(debussy, FRAME_SIZE)\n",
    "# frame length\n",
    "len(ae_debussy)"
   ]
  },
  {
   "cell_type": "code",
   "execution_count": null,
   "id": "4f3711ba-9876-4162-a7a9-ac25c975f92c",
   "metadata": {},
   "outputs": [],
   "source": [
    "FRAME_SIZE = 1024\n",
    "HOP_LENGTH = 512\n",
    "\n",
    "# calculate amplitude envelope(overlapping frames)\n",
    "def amplitude_envelope_ol(signal, frame_size, hop_length):\n",
    "    amplitude_envelope = []\n",
    "\n",
    "    for i in range(0, len(signal), hop_length):\n",
    "        amplitude_i = max(signal[i: i+frame_size])\n",
    "        amplitude_envelope.append(amplitude_i)\n",
    "\n",
    "    return np.array(amplitude_envelope)"
   ]
  },
  {
   "cell_type": "code",
   "execution_count": null,
   "id": "b2b52623-a17b-4611-8b98-b3b4480b190c",
   "metadata": {},
   "outputs": [],
   "source": [
    "ae_ol_debussy = amplitude_envelope_ol(debussy, FRAME_SIZE, HOP_LENGTH)\n",
    "# frame length\n",
    "len(ae_ol_debussy)"
   ]
  },
  {
   "cell_type": "code",
   "execution_count": null,
   "id": "3f075efe-7a8b-4fbc-a226-72ff268ff339",
   "metadata": {
    "scrolled": true
   },
   "outputs": [],
   "source": [
    "# visualise the ae\n",
    "plt.figure(figsize = (15, 17))\n",
    "\n",
    "plt.subplot(2, 1, 1)\n",
    "librosa.display.waveshow(ae_debussy, alpha = 0.5)\n",
    "plt.title('ae_debussy')\n",
    "plt.ylim(-1, 1)\n",
    "\n",
    "plt.subplot(2, 1, 2)\n",
    "librosa.display.waveshow(ae_ol_debussy, alpha = 0.5)\n",
    "plt.title('ae_ol_debussy')\n",
    "plt.ylim(-1, 1)\n",
    "\n",
    "plt.show()\n",
    "plt.close()"
   ]
  },
  {
   "cell_type": "code",
   "execution_count": null,
   "id": "91e0426d-0964-4aa6-b6a6-e9fa7192d3ed",
   "metadata": {},
   "outputs": [],
   "source": [
    "ae_ol_debussy = amplitude_envelope_ol(debussy, FRAME_SIZE, HOP_LENGTH)\n",
    "ae_ol_redhot = amplitude_envelope_ol(redhot, FRAME_SIZE, HOP_LENGTH)\n",
    "ae_ol_duke = amplitude_envelope_ol(duke, FRAME_SIZE, HOP_LENGTH)"
   ]
  },
  {
   "cell_type": "code",
   "execution_count": null,
   "id": "a54935fb-a414-476a-a24f-f9c12b101ce8",
   "metadata": {},
   "outputs": [],
   "source": [
    "frames = range(0, ae_ol_debussy.size)\n",
    "t = librosa.frames_to_time(frames, hop_length = HOP_LENGTH)\n",
    "len(t), t, 1 / sr * HOP_LENGTH"
   ]
  },
  {
   "cell_type": "code",
   "execution_count": null,
   "id": "e72511b5-e47f-4dae-bbfa-16ee74e97b8e",
   "metadata": {},
   "outputs": [],
   "source": [
    "frames = range(0, ae_ol_debussy.size)\n",
    "t = librosa.frames_to_time(frames, hop_length = HOP_LENGTH)\n",
    "\n",
    "# visualise the waveforms with ae\n",
    "plt.figure(figsize = (15, 17))\n",
    "\n",
    "plt.subplot(3, 1, 1)\n",
    "librosa.display.waveshow(debussy, alpha = 0.5)\n",
    "plt.plot(t, ae_ol_debussy, color = 'red')\n",
    "plt.title('debussy')\n",
    "plt.ylim(-1, 1)\n",
    "\n",
    "plt.subplot(3, 1, 2)\n",
    "librosa.display.waveshow(redhot, alpha = 0.5)\n",
    "plt.plot(t, ae_ol_redhot, color = 'red')\n",
    "plt.title('redhot')\n",
    "plt.ylim(-1, 1)\n",
    "\n",
    "plt.subplot(3, 1, 3)\n",
    "librosa.display.waveshow(duke, alpha = 0.5)\n",
    "plt.plot(t, ae_ol_duke, color = 'red')\n",
    "plt.title('duke')\n",
    "plt.ylim(-1, 1)\n",
    "\n",
    "plt.show()\n",
    "plt.close()"
   ]
  },
  {
   "cell_type": "code",
   "execution_count": null,
   "id": "0c0c680d-3672-4744-9091-2d597d084491",
   "metadata": {},
   "outputs": [],
   "source": [
    "ae_ol_debussy.mean(), ae_ol_redhot.mean(), ae_ol_duke.mean()"
   ]
  }
 ],
 "metadata": {
  "kernelspec": {
   "display_name": "Python 3 (ipykernel)",
   "language": "python",
   "name": "python3"
  },
  "language_info": {
   "codemirror_mode": {
    "name": "ipython",
    "version": 3
   },
   "file_extension": ".py",
   "mimetype": "text/x-python",
   "name": "python",
   "nbconvert_exporter": "python",
   "pygments_lexer": "ipython3",
   "version": "3.9.23"
  }
 },
 "nbformat": 4,
 "nbformat_minor": 5
}
